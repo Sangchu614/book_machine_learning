{
  "nbformat": 4,
  "nbformat_minor": 0,
  "metadata": {
    "colab": {
      "provenance": []
    },
    "kernelspec": {
      "name": "python3",
      "display_name": "Python 3"
    },
    "language_info": {
      "name": "python"
    }
  },
  "cells": [
    {
      "cell_type": "markdown",
      "source": [
        "# **앙상블 학습(ensemble learning)**\n",
        "\n",
        "정형 데이터를 다루는 데 가장 뛰어난 성과를 내는 알고리짐\n",
        "\n",
        "\n",
        "1.   **랜덤 포레스트(random forest)**\n",
        "    \n",
        "    랜덤 포레스트는 결정 트리를 랜덤하게 만들어 결정 트리(나무)의 숲을 만드는 것이다. 각 결정 트리의 예측을 사용해 최종 예측을 만드는 방식이다.\n",
        "    *   데이터 생성 방법 : 훈련 데이터에서 랜덤하게 샘플을 추출함(중복 가능)\n",
        "        \n",
        "        이러한 방식을 부트스트랩 샘플(bootstrap sample)이라고 한다.부트스르랩 샘플은 훈련 세트의 크기와 같게 만든다\n",
        "        \n",
        "        ex) 1,000개의 가방에서 중복하여 1,00개의 샘플을 뽑는다."
      ],
      "metadata": {
        "id": "6Pt_Nrn-9jD3"
      }
    },
    {
      "cell_type": "code",
      "execution_count": null,
      "metadata": {
        "id": "Jw4Lf-eU86xY"
      },
      "outputs": [],
      "source": [
        "import numpy as np\n",
        "import pandas as pd\n",
        "from sklearn.model_selection import train_test_split\n",
        "wine = pd.read_csv('https://bit.ly/wine_csv_data')\n",
        "data = wine[['alcohol', 'sugar', 'pH']].to_numpy()\n",
        "target = wine['class'].to_numpy()\n",
        "train_input, test_input, train_target, test_target = train_test_split(data, target, test_size=0.2, random_state=42)"
      ]
    },
    {
      "cell_type": "code",
      "source": [
        "from  sklearn.model_selection import cross_validate\n",
        "from sklearn.ensemble import RandomForestClassifier\n",
        "rf = RandomForestClassifier(n_jobs=-1, random_state=42)\n",
        "scores = cross_validate(rf, train_input, train_target, return_train_score=True, n_jobs=-1)\n",
        "print(np.mean(scores['train_score']), np.mean(scores['test_score']))"
      ],
      "metadata": {
        "colab": {
          "base_uri": "https://localhost:8080/"
        },
        "id": "dprvj1Nd_a0H",
        "outputId": "ead625e4-cb0c-48de-a7c1-f02ef70efd9e"
      },
      "execution_count": null,
      "outputs": [
        {
          "output_type": "stream",
          "name": "stdout",
          "text": [
            "0.9973541965122431 0.8905151032797809\n"
          ]
        }
      ]
    },
    {
      "cell_type": "code",
      "source": [
        "rf.fit(train_input, train_target)\n",
        "print(rf.feature_importances_)\n",
        "#이전에 결정트리에서는 [0.12... / 0.86.../ 0.007]이런식으로 나왔지만 랜덤포레스트로 인해 특성의 일부를 랜덤하게 선택하였기 때문에 당도의 중요도가 감소하고\n",
        "#나머지 특성이 증가하였다.\n",
        "#이는 하나의 특성에 과도하게 집중하지 않고 좀 더 많은 특성이 훈련에 기여할 기회를 얻어 과대적함을 줄이고 일반화 성능을 높이는데 도움이 된다."
      ],
      "metadata": {
        "colab": {
          "base_uri": "https://localhost:8080/"
        },
        "id": "8RJIV9ER_osm",
        "outputId": "9402f708-cdb2-4994-a75e-39500bba3c2c"
      },
      "execution_count": null,
      "outputs": [
        {
          "output_type": "stream",
          "name": "stdout",
          "text": [
            "[0.23167441 0.50039841 0.26792718]\n"
          ]
        }
      ]
    },
    {
      "cell_type": "code",
      "source": [
        "rf = RandomForestClassifier(oob_score=True, n_jobs=-1, random_state=42)\n",
        "rf.fit(train_input, train_target)\n",
        "print(rf.oob_score_)\n",
        "#랜덤 포레스트에서는 훈련 세트에서 중복을 허용하여 부트스트랩 샘플을 만들다.\n",
        "#이때 부스스트랩 샘플에 포함되지 않고 남은 샘플을 OOB(out of bag)샘플이라고 한다.\n",
        "#위 코드는 각 결정트리의 OOB 점수를 평균하여 출력한다 -> 교차 검증 대용"
      ],
      "metadata": {
        "colab": {
          "base_uri": "https://localhost:8080/"
        },
        "id": "2kNYCCDAAZCB",
        "outputId": "13f3d99f-28a5-4bbd-faa9-2262949d0dac"
      },
      "execution_count": null,
      "outputs": [
        {
          "output_type": "stream",
          "name": "stdout",
          "text": [
            "0.8934000384837406\n"
          ]
        }
      ]
    },
    {
      "cell_type": "markdown",
      "source": [
        "# **엑스트라 트리(extra tree)**\n",
        "\n",
        "엑스트라 트리는 램덤 포레스트와 매우 비슷하게 동작한다. 기본적으로 100개의 결정 트리를 훈련한다. 랜덤 포레스트와 동일하게 결정 트리가 제공하는 대부분의 매개변수를 지원하고 전체 특성 중에 일부 특성을 램덤하게 선택하여 노드를 분할하는 데 사용한다.\n",
        "\n",
        "랜덤 포레스트와 차이점은 부트스트랩 샘플을 사용하지 않는 것이다.즉, 결정 트리를 만들 때 전체 훈련 세트를 사용한다.\n",
        "\n",
        "대신 노드를 분할할 때 가장 좋은 분할을 찾는 것이 아니라 무작위로 분할한다."
      ],
      "metadata": {
        "id": "bX6ZfN8yBAhw"
      }
    },
    {
      "cell_type": "code",
      "source": [
        "from sklearn.ensemble import ExtraTreesClassifier\n",
        "et = ExtraTreesClassifier(n_jobs=-1, random_state=42)\n",
        "scores = cross_validate(et, train_input, train_target, return_train_score=True, n_jobs=-1)\n",
        "print(np.mean(scores['train_score']), np.mean(scores['test_score']))"
      ],
      "metadata": {
        "colab": {
          "base_uri": "https://localhost:8080/"
        },
        "id": "vVPmS-FVEqxL",
        "outputId": "2704d18b-383c-4acc-8cc9-4b00e2c1e18b"
      },
      "execution_count": null,
      "outputs": [
        {
          "output_type": "stream",
          "name": "stdout",
          "text": [
            "0.9974503966084433 0.8887848893166506\n"
          ]
        }
      ]
    },
    {
      "cell_type": "code",
      "source": [
        "et.fit(train_input, train_target)\n",
        "print(et.feature_importances_)"
      ],
      "metadata": {
        "colab": {
          "base_uri": "https://localhost:8080/"
        },
        "id": "olNoIpa2HEeu",
        "outputId": "7f767b63-7382-43ff-d6a8-f5ee9df37a75"
      },
      "execution_count": null,
      "outputs": [
        {
          "output_type": "stream",
          "name": "stdout",
          "text": [
            "[0.20183568 0.52242907 0.27573525]\n"
          ]
        }
      ]
    },
    {
      "cell_type": "markdown",
      "source": [
        "# **그레디언트 부스팅(gradient boosting)**\n",
        "\n",
        "깊이가 얕은 결정 트리를 사용하여 이전 트리의 오차를 보완하는 방식으로 앙상블 하는 방법이다. 깊이가 얕은 결정 트리를 사용하기 때문에 과대적합에 강하고 일반적으로 높은 일반화 성능을 기대할 수 있다.\n",
        "\n",
        "경사 하강법을 사용하여 트리를 앙상블에 추가하는 방식이다.\n",
        "\n",
        "*   분류 : 로지스틱 손실 함수\n",
        "*   회귀 : 평균 제곱 오차 함수\n",
        "\n",
        "그레디언트 부스팅은 결정 트리를 계속 추가하면서 가장 낮은 곳(손실함수의 낮은 곳)을 찾아 이동한다."
      ],
      "metadata": {
        "id": "iMSqnSlQHId4"
      }
    },
    {
      "cell_type": "code",
      "source": [
        "from sklearn.ensemble import GradientBoostingClassifier\n",
        "gb = GradientBoostingClassifier(random_state=42)\n",
        "scores = cross_validate(gb, train_input, train_target, return_train_score=True, n_jobs=-1)\n",
        "print(np.mean(scores['train_score']), np.mean(scores['test_score']))"
      ],
      "metadata": {
        "colab": {
          "base_uri": "https://localhost:8080/"
        },
        "id": "tbq8lNuSH95h",
        "outputId": "6e890fa1-d4df-47c7-ef24-0cc7c369e02d"
      },
      "execution_count": null,
      "outputs": [
        {
          "output_type": "stream",
          "name": "stdout",
          "text": [
            "0.8881086892152563 0.8720430147331015\n"
          ]
        }
      ]
    },
    {
      "cell_type": "code",
      "source": [
        "gb = GradientBoostingClassifier(n_estimators=500, learning_rate=0.2, random_state=42)\n",
        "scores = cross_validate(gb, train_input, train_target, return_train_score=True, n_jobs=-1)\n",
        "print(np.mean(scores['train_score']), np.mean(scores['test_score']))"
      ],
      "metadata": {
        "colab": {
          "base_uri": "https://localhost:8080/"
        },
        "id": "Qe3pilogIFBG",
        "outputId": "c951e849-0825-47a1-bae4-b087676286cc"
      },
      "execution_count": null,
      "outputs": [
        {
          "output_type": "stream",
          "name": "stdout",
          "text": [
            "0.9464595437171814 0.8780082549788999\n"
          ]
        }
      ]
    },
    {
      "cell_type": "code",
      "source": [
        "gb.fit(train_input,train_target)\n",
        "print(gb.feature_importances_)"
      ],
      "metadata": {
        "colab": {
          "base_uri": "https://localhost:8080/"
        },
        "id": "kUjJb2A2IOkK",
        "outputId": "6e60d9d5-f38d-4a12-eecf-195b52f41e5d"
      },
      "execution_count": null,
      "outputs": [
        {
          "output_type": "stream",
          "name": "stdout",
          "text": [
            "[0.15872278 0.68010884 0.16116839]\n"
          ]
        }
      ]
    },
    {
      "cell_type": "markdown",
      "source": [
        "# **히스토그램 기반 그레이디언트 부스팅(Histogram-based Gradient Boosting)**\n",
        "\n",
        "히스토그램 기반 그레이디언트 부스팅은 정형데이터를 다루는 머신러닝 알고리즘 중에 가장 인기가 높은 알고리즘이다.\n",
        "\n",
        "히스토그램 기반 그레디언트 부스팅은 먼저 입력 특성을 256개의 구간으로 나눠 노드를 분할할 때 최적으리 분할을 매우 빠르게 찾을 수 있다.\n",
        "256개의 구간 중에서 하나를 떼어 놓고 누락된 값을 위해서 사용한다 -> 입력에 누락된 특성이 있더라도 따로 전처리 필요 x"
      ],
      "metadata": {
        "id": "VLI3mSJaIZpQ"
      }
    },
    {
      "cell_type": "code",
      "source": [
        "from sklearn.experimental import enable_hist_gradient_boosting\n",
        "from sklearn.ensemble import HistGradientBoostingClassifier\n",
        "hgb = HistGradientBoostingClassifier(random_state=42)\n",
        "scores = cross_validate(hgb, train_input, train_target, return_train_score=True)\n",
        "print(np.mean(scores['train_score']), np.mean(scores['test_score']))"
      ],
      "metadata": {
        "colab": {
          "base_uri": "https://localhost:8080/"
        },
        "id": "KLCloYM7JCSa",
        "outputId": "fc293c4a-4387-49ed-f478-923bde589de9"
      },
      "execution_count": null,
      "outputs": [
        {
          "output_type": "stream",
          "name": "stderr",
          "text": [
            "/usr/local/lib/python3.10/dist-packages/sklearn/experimental/enable_hist_gradient_boosting.py:15: UserWarning: Since version 1.0, it is not needed to import enable_hist_gradient_boosting anymore. HistGradientBoostingClassifier and HistGradientBoostingRegressor are now stable and can be normally imported from sklearn.ensemble.\n",
            "  warnings.warn(\n"
          ]
        },
        {
          "output_type": "stream",
          "name": "stdout",
          "text": [
            "0.9321723946453317 0.8801241948619236\n"
          ]
        }
      ]
    },
    {
      "cell_type": "code",
      "source": [
        "from sklearn.inspection import permutation_importance\n",
        "\n",
        "hgb.fit(train_input, train_target)\n",
        "result = permutation_importance(hgb, train_input, train_target, n_repeats=10, random_state=42, n_jobs=-1)\n",
        "#이 함수는 특성을 하나씩 랜덤하게 섞어서 모델의 성능이 변화하는지를 관찰하여 어떤 특성이 중요한지 계산해준다,\n",
        "#n_repeats는 랜덤하게 섞을 횟수\n",
        "print(result.importances_mean)\n",
        "#나온 결과 값은 중요도(importances), 평균(importances_mean), 표준편차(importances_std이다."
      ],
      "metadata": {
        "colab": {
          "base_uri": "https://localhost:8080/"
        },
        "id": "o51M_urFJRRe",
        "outputId": "50410c12-34da-4524-f626-73908b53b86a"
      },
      "execution_count": null,
      "outputs": [
        {
          "output_type": "stream",
          "name": "stdout",
          "text": [
            "[0.08876275 0.23438522 0.08027708]\n"
          ]
        }
      ]
    },
    {
      "cell_type": "code",
      "source": [
        "result = permutation_importance(hgb, test_input, test_target, n_repeats=10, random_state=42, n_jobs=-1)\n",
        "print(result.importances_mean)"
      ],
      "metadata": {
        "colab": {
          "base_uri": "https://localhost:8080/"
        },
        "id": "Mcia1xuzJRNK",
        "outputId": "f05f1b79-357f-4c28-ff4d-41c784712e56"
      },
      "execution_count": null,
      "outputs": [
        {
          "output_type": "stream",
          "name": "stdout",
          "text": [
            "[0.05969231 0.20238462 0.049     ]\n"
          ]
        }
      ]
    },
    {
      "cell_type": "code",
      "source": [
        "hgb.score(test_input, test_target)"
      ],
      "metadata": {
        "colab": {
          "base_uri": "https://localhost:8080/"
        },
        "id": "1BBEyECaKJSn",
        "outputId": "792e746e-9a20-4a31-8321-cdfa2d78ad82"
      },
      "execution_count": null,
      "outputs": [
        {
          "output_type": "execute_result",
          "data": {
            "text/plain": [
              "0.8723076923076923"
            ]
          },
          "metadata": {},
          "execution_count": 22
        }
      ]
    },
    {
      "cell_type": "markdown",
      "source": [
        "\n",
        "\n",
        "---\n",
        "사이킷런 말고 히스토그램 기반 그레이디언트 부스팅 알고리즘을 구현한 라이브러리가 존재한다.\n",
        "\n",
        "\n",
        "*   XGBoost\n",
        "*   LightGBM\n",
        "\n"
      ],
      "metadata": {
        "id": "doTke9C7KWif"
      }
    },
    {
      "cell_type": "code",
      "source": [
        "from xgboost import XGBClassifier\n",
        "xgb = XGBClassifier(tree_method='hist', random_state=42)\n",
        "scores = cross_validate(xgb, train_input, train_target, return_train_score=True)\n",
        "print(np.mean(scores['train_score']), np.mean(scores['test_score']))"
      ],
      "metadata": {
        "colab": {
          "base_uri": "https://localhost:8080/"
        },
        "id": "CZFJRMklKla-",
        "outputId": "a5d21dfb-3458-4072-f803-8ff880b885df"
      },
      "execution_count": null,
      "outputs": [
        {
          "output_type": "stream",
          "name": "stdout",
          "text": [
            "0.9558403027491312 0.8782000074035686\n"
          ]
        }
      ]
    },
    {
      "cell_type": "code",
      "source": [
        "from lightgbm import LGBMClassifier\n",
        "lgb = LGBMClassifier(random_state=42)\n",
        "scores = cross_validate(lgb, train_input, train_target, return_train_score=True, n_jobs=-1)\n",
        "print(np.mean(scores['train_score']), np.mean(scores['test_score']))"
      ],
      "metadata": {
        "colab": {
          "base_uri": "https://localhost:8080/"
        },
        "id": "3OLIN1NgKrby",
        "outputId": "2a608d91-18e4-405d-8342-e49f07886179"
      },
      "execution_count": null,
      "outputs": [
        {
          "output_type": "stream",
          "name": "stdout",
          "text": [
            "0.935828414851749 0.8801251203079884\n"
          ]
        }
      ]
    }
  ]
}